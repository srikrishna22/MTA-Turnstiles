{
 "cells": [
  {
   "cell_type": "markdown",
   "metadata": {},
   "source": [
    "# MTA Turnstile Project"
   ]
  },
  {
   "cell_type": "code",
   "execution_count": null,
   "metadata": {},
   "outputs": [],
   "source": [
    "import pandas as pd\n",
    "import numpy as np\n",
    "import matplotlib.pyplot as plt\n",
    "from datetime import datetime as dt\n",
    "import datetime \n",
    "\n",
    "%matplotlib inline"
   ]
  },
  {
   "cell_type": "code",
   "execution_count": null,
   "metadata": {},
   "outputs": [],
   "source": [
    "# Source: http://web.mta.info/developers/turnstile.html\n",
    "def get_data(week_nums):\n",
    "    url = \"http://web.mta.info/developers/data/nyct/turnstile/turnstile_{}.txt\"\n",
    "    dfs = []\n",
    "    for week_num in week_nums:\n",
    "        file_url = url.format(week_num)\n",
    "        dfs.append(pd.read_csv(file_url))\n",
    "    return pd.concat(dfs)\n",
    "        \n",
    "week_nums = [180505, 180512, 180519, 180526, 180602]\n",
    "turnstiles_df = get_data(week_nums)"
   ]
  },
  {
   "cell_type": "code",
   "execution_count": null,
   "metadata": {},
   "outputs": [],
   "source": [
    "# Aside on string formatting in Python \n",
    "\n",
    "my_string = \"Hello, {}. Are you {} to be learning {}?\"\n",
    "print(my_string.format(\"Lara\", \"delighted\", \"Python\"))"
   ]
  },
  {
   "cell_type": "code",
   "execution_count": null,
   "metadata": {},
   "outputs": [],
   "source": [
    "turnstiles_df.head()"
   ]
  },
  {
   "cell_type": "code",
   "execution_count": null,
   "metadata": {},
   "outputs": [],
   "source": [
    "# Check whether there's any formatting issues in the column names \n",
    "\n",
    "turnstiles_df.columns"
   ]
  },
  {
   "cell_type": "code",
   "execution_count": null,
   "metadata": {},
   "outputs": [],
   "source": [
    "turnstiles_df.columns = [column.strip() for column in turnstiles_df.columns]"
   ]
  },
  {
   "cell_type": "code",
   "execution_count": null,
   "metadata": {},
   "outputs": [],
   "source": [
    "turnstiles_df.columns"
   ]
  },
  {
   "cell_type": "code",
   "execution_count": null,
   "metadata": {},
   "outputs": [],
   "source": [
    "turnstiles_df.head()"
   ]
  },
  {
   "cell_type": "code",
   "execution_count": null,
   "metadata": {},
   "outputs": [],
   "source": [
    "turnstiles_df.tail()"
   ]
  },
  {
   "cell_type": "code",
   "execution_count": null,
   "metadata": {},
   "outputs": [],
   "source": [
    "# Three weeks of data\n",
    "turnstiles_df.DATE.value_counts().sort_index()"
   ]
  },
  {
   "cell_type": "code",
   "execution_count": null,
   "metadata": {},
   "outputs": [],
   "source": [
    "turnstiles_df.columns"
   ]
  },
  {
   "cell_type": "code",
   "execution_count": null,
   "metadata": {},
   "outputs": [],
   "source": [
    "mask = ((turnstiles_df[\"C/A\"] == \"A002\") & \n",
    "        (turnstiles_df[\"UNIT\"] == \"R051\") & \n",
    "        (turnstiles_df[\"SCP\"] == \"02-00-00\") & \n",
    "        (turnstiles_df[\"STATION\"] == \"59 ST\"))\n",
    "\n",
    "turnstiles_df[mask].head()"
   ]
  },
  {
   "cell_type": "code",
   "execution_count": null,
   "metadata": {},
   "outputs": [],
   "source": [
    "# Take the date and time fields into a single datetime column\n",
    "turnstiles_df[\"DATE_TIME\"] = pd.to_datetime(turnstiles_df.DATE + \" \" + turnstiles_df.TIME, format=\"%m/%d/%Y %H:%M:%S\")"
   ]
  },
  {
   "cell_type": "code",
   "execution_count": null,
   "metadata": {},
   "outputs": [],
   "source": [
    "mask = ((turnstiles_df[\"C/A\"] == \"R626\") & \n",
    "(turnstiles_df[\"UNIT\"] == \"R062\") & \n",
    "(turnstiles_df[\"SCP\"] == \"00-00-00\") & \n",
    "(turnstiles_df[\"STATION\"] == \"CROWN HTS-UTICA\"))\n",
    "turnstiles_df[mask].head()"
   ]
  },
  {
   "cell_type": "code",
   "execution_count": null,
   "metadata": {},
   "outputs": [],
   "source": [
    "# Sanity check to verify that \"C/A\", \"UNIT\", \"SCP\", \"STATION\", \"DATE_TIME\" is unique\n",
    "(turnstiles_df\n",
    " .groupby([\"C/A\", \"UNIT\", \"SCP\", \"STATION\", \"DATE_TIME\"])  \n",
    " .ENTRIES.count()\n",
    " .reset_index() # or use as_index = False; otherwise makes groupby columns new index \n",
    " .sort_values(\"ENTRIES\", ascending=False)).head(5)"
   ]
  },
  {
   "cell_type": "code",
   "execution_count": null,
   "metadata": {},
   "outputs": [],
   "source": [
    "# On 9/16, we seem to have two entries for same time.  Let's take a look\n",
    "mask = ((turnstiles_df[\"C/A\"] == \"R504\") & \n",
    "(turnstiles_df[\"UNIT\"] == \"R276\") & \n",
    "(turnstiles_df[\"SCP\"] == \"00-00-01\") & \n",
    "(turnstiles_df[\"STATION\"] == \"VERNON-JACKSON\") &\n",
    "(turnstiles_df[\"DATE_TIME\"].dt.date == datetime.datetime(2016, 9, 16).date()))\n",
    "turnstiles_df[mask].head()"
   ]
  },
  {
   "cell_type": "markdown",
   "metadata": {},
   "source": [
    "* Looks to be a incorrect AUD entry.  May be we should just select the Regular one."
   ]
  },
  {
   "cell_type": "code",
   "execution_count": null,
   "metadata": {},
   "outputs": [],
   "source": [
    "turnstiles_df.DESC.value_counts()"
   ]
  },
  {
   "cell_type": "markdown",
   "metadata": {},
   "source": [
    "* Since we are only interested in Entries, we might be OK."
   ]
  },
  {
   "cell_type": "code",
   "execution_count": null,
   "metadata": {},
   "outputs": [],
   "source": [
    "# Get rid of the duplicate entry\n",
    "turnstiles_df.sort_values([\"C/A\", \"UNIT\", \"SCP\", \"STATION\", \"DATE_TIME\"], inplace=True, \\\n",
    "                          ascending=False)\n",
    "turnstiles_df.drop_duplicates(subset=[\"C/A\", \"UNIT\", \"SCP\", \"STATION\", \"DATE_TIME\"], inplace=True)"
   ]
  },
  {
   "cell_type": "code",
   "execution_count": null,
   "metadata": {},
   "outputs": [],
   "source": [
    "# Sanity check to verify that \"C/A\", \"UNIT\", \"SCP\", \"STATION\", \"DATE_TIME\" is unique\n",
    "(turnstiles_df\n",
    " .groupby([\"C/A\", \"UNIT\", \"SCP\", \"STATION\", \"DATE_TIME\"])\n",
    " .ENTRIES.count()\n",
    " .reset_index()\n",
    " .sort_values(\"ENTRIES\", ascending=False)).head(5)"
   ]
  },
  {
   "cell_type": "markdown",
   "metadata": {},
   "source": [
    "* No more duplicate Entries"
   ]
  },
  {
   "cell_type": "code",
   "execution_count": null,
   "metadata": {},
   "outputs": [],
   "source": [
    "# Drop Exits and Desc columns.  To prevent errors in multiple run of cell, \n",
    "# errors on drop is ignored (e.g. if some columns were dropped already)\n",
    "turnstiles_df = turnstiles_df.drop([\"EXITS\", \"DESC\"], axis=1, errors=\"ignore\")"
   ]
  },
  {
   "cell_type": "code",
   "execution_count": null,
   "metadata": {},
   "outputs": [],
   "source": [
    "turnstiles_df.dtypes"
   ]
  },
  {
   "cell_type": "code",
   "execution_count": null,
   "metadata": {},
   "outputs": [],
   "source": [
    "turnstiles_daily = turnstiles_df.groupby([\"C/A\", \"UNIT\", \"SCP\", \"STATION\", \"DATE\"])\\\n",
    ".ENTRIES.first().reset_index()"
   ]
  },
  {
   "cell_type": "code",
   "execution_count": null,
   "metadata": {},
   "outputs": [],
   "source": [
    "turnstiles_daily.head()"
   ]
  },
  {
   "cell_type": "code",
   "execution_count": null,
   "metadata": {},
   "outputs": [],
   "source": [
    "# .groupby returns a group object whose values are the index values belonging to that group\n",
    "\n",
    "#turnstiles_daily.groupby([\"C/A\", \"UNIT\", \"SCP\", \"STATION\"]).groups"
   ]
  },
  {
   "cell_type": "code",
   "execution_count": null,
   "metadata": {},
   "outputs": [],
   "source": [
    "turnstiles_daily[[\"PREV_DATE\", \"PREV_ENTRIES\"]] = (turnstiles_daily\n",
    "                                                       .groupby([\"C/A\", \"UNIT\", \"SCP\", \"STATION\"])[\"DATE\", \"ENTRIES\"]\n",
    "                                                       .transform(lambda grp: grp.shift(1)))\n",
    "# transform() takes a function as parameter\n",
    "# shift moves the index by the number of periods given (positive or negative)"
   ]
  },
  {
   "cell_type": "code",
   "execution_count": null,
   "metadata": {},
   "outputs": [],
   "source": [
    "turnstiles_daily.head()"
   ]
  },
  {
   "cell_type": "code",
   "execution_count": null,
   "metadata": {},
   "outputs": [],
   "source": [
    "turnstiles_daily.tail()"
   ]
  },
  {
   "cell_type": "code",
   "execution_count": null,
   "metadata": {},
   "outputs": [],
   "source": [
    "# Drop the rows for first date\n",
    "turnstiles_daily.dropna(subset=[\"PREV_DATE\"], axis=0, inplace=True)\n",
    "# axis = 0 means index (=1 means column)"
   ]
  },
  {
   "cell_type": "code",
   "execution_count": null,
   "metadata": {},
   "outputs": [],
   "source": [
    "# let's check that the number of entries for today is higher than entries for yesterday\n",
    "turnstiles_daily[turnstiles_daily[\"ENTRIES\"] < turnstiles_daily[\"PREV_ENTRIES\"]].head()"
   ]
  },
  {
   "cell_type": "code",
   "execution_count": null,
   "metadata": {},
   "outputs": [],
   "source": [
    "# What's the deal with counter being in reverse\n",
    "mask = ((turnstiles_df[\"C/A\"] == \"A011\") & \n",
    "(turnstiles_df[\"UNIT\"] == \"R080\") & \n",
    "(turnstiles_df[\"SCP\"] == \"01-00-00\") & \n",
    "(turnstiles_df[\"STATION\"] == \"57 ST-7 AV\") &\n",
    "(turnstiles_df[\"DATE_TIME\"].dt.date == datetime.datetime(2016, 8, 27).date())) \n",
    "# datetime is both name of module and name of constructor of datetime object\n",
    "turnstiles_df[mask].head()"
   ]
  },
  {
   "cell_type": "markdown",
   "metadata": {},
   "source": [
    "* Counter working in Reverse??? - WHHHAT"
   ]
  },
  {
   "cell_type": "code",
   "execution_count": null,
   "metadata": {},
   "outputs": [],
   "source": [
    "# Let's see how many stations have this problem\n",
    "\n",
    "(turnstiles_daily[turnstiles_daily[\"ENTRIES\"] < turnstiles_daily[\"PREV_ENTRIES\"]]\n",
    "    .groupby([\"C/A\", \"UNIT\", \"SCP\", \"STATION\"])\n",
    "     .size()) # size() behaves same as if we'd done .DATE.count() "
   ]
  },
  {
   "cell_type": "code",
   "execution_count": null,
   "metadata": {
    "scrolled": false
   },
   "outputs": [],
   "source": [
    "def get_daily_counts(row, max_counter):\n",
    "    counter = row[\"ENTRIES\"] - row[\"PREV_ENTRIES\"]\n",
    "    if counter < 0:\n",
    "        counter = -counter\n",
    "    if counter > max_counter:\n",
    "        print(row[\"ENTRIES\"], row[\"PREV_ENTRIES\"])\n",
    "        return 0\n",
    "    return counter\n",
    "\n",
    "# If counter is > 1 million, then the counter might have been reset.  \n",
    "# Just set it to zero as different counters have different cycle limits\n",
    "_ = turnstiles_daily.apply(get_daily_counts, axis=1, max_counter=1000000) \n",
    "\n",
    "# apply takes a function as parameter and applies it along the given axis (1=apply by row) \n",
    "# apply takes care of passing each row to the function"
   ]
  },
  {
   "cell_type": "code",
   "execution_count": null,
   "metadata": {},
   "outputs": [],
   "source": [
    "def get_daily_counts(row, max_counter):\n",
    "    counter = row[\"ENTRIES\"] - row[\"PREV_ENTRIES\"]\n",
    "    if counter < 0:\n",
    "        # Maybe counter is reversed?\n",
    "        counter = -counter\n",
    "    if counter > max_counter:\n",
    "        print(row[\"ENTRIES\"], row[\"PREV_ENTRIES\"])\n",
    "        counter = min(row[\"ENTRIES\"], row[\"PREV_ENTRIES\"])\n",
    "        # if current entries is bad, use yesterday's count as proxy\n",
    "    if counter > max_counter:\n",
    "        # Check it again to make sure we are not giving a counter that's too big\n",
    "        return 0\n",
    "    return counter\n",
    "\n",
    "# If counter is > 1Million, then the counter might have been reset.  \n",
    "# Just set it to zero as different counters have different cycle limits\n",
    "turnstiles_daily[\"DAILY_ENTRIES\"] = turnstiles_daily.apply(get_daily_counts, axis=1, max_counter=1000000)"
   ]
  },
  {
   "cell_type": "code",
   "execution_count": null,
   "metadata": {},
   "outputs": [],
   "source": [
    "turnstiles_daily.head()"
   ]
  },
  {
   "cell_type": "code",
   "execution_count": null,
   "metadata": {},
   "outputs": [],
   "source": [
    "nyc_turnstile_geocode_df = pd.read_csv('https://github.com/chriswhong/nycturnstiles/raw/master/geocoded.csv', \\\n",
    "                                       names = ['UNIT', 'C/A', 'STATION', 'LINENAME', 'DIVISION', 'LAT', 'LONG'], \n",
    "                                       index_col=False)"
   ]
  },
  {
   "cell_type": "code",
   "execution_count": null,
   "metadata": {},
   "outputs": [],
   "source": [
    "nyc_turnstile_geocode_df.reindex()"
   ]
  },
  {
   "cell_type": "code",
   "execution_count": null,
   "metadata": {},
   "outputs": [],
   "source": [
    "merged = turnstiles_df.merge(nyc_turnstile_geocode_df, \n",
    "                                on=['STATION', 'UNIT', 'LINENAME','C/A', 'DIVISION'], \n",
    "                                how='left')\n",
    "merged.head(5)"
   ]
  },
  {
   "cell_type": "code",
   "execution_count": null,
   "metadata": {},
   "outputs": [],
   "source": [
    "mask = ((turnstiles_daily[\"C/A\"] == \"A002\") & \n",
    "(turnstiles_daily[\"UNIT\"] == \"R051\") &  \n",
    "(turnstiles_daily[\"STATION\"] == \"59 ST\") \n",
    ")\n",
    "turnstiles_daily[mask].head()"
   ]
  },
  {
   "cell_type": "code",
   "execution_count": null,
   "metadata": {},
   "outputs": [],
   "source": [
    "mask2 = (#(nyc_turnstile_geocode_df[\"C/A\"] == \"A002\") & \n",
    "(nyc_turnstile_geocode_df[\"UNIT\"] == \"R051\") &  \n",
    "(nyc_turnstile_geocode_df[\"STATION\"] == \"59 ST\") \n",
    ")\n",
    "nyc_turnstile_geocode_df[mask2].head()"
   ]
  },
  {
   "cell_type": "code",
   "execution_count": null,
   "metadata": {},
   "outputs": [],
   "source": [
    "#merged.to_csv('merged.csv')"
   ]
  },
  {
   "cell_type": "code",
   "execution_count": null,
   "metadata": {},
   "outputs": [],
   "source": [
    "#!scrapy startproject nyc_tech_companies\n",
    "\n",
    "\n",
    "# import scrapy\n",
    "\n",
    "\n",
    "# class CompaniesSpider(scrapy.Spider):\n",
    "#     name = \"companies\"\n",
    "#     start_urls = ['https://www.builtinnyc.com/2017/11/07/nyc-top-100-tech-companies-2017',\n",
    "#     ]\n",
    "\n",
    "#     def parse(self, response):\n",
    "#         companies = response.css('.info .title a::text').extract()\n",
    "#         lines = response.xpath('//strong/parent::p[text()]').extract()\n",
    "#         splitted = [line.split() for line in lines]\n",
    "#         splitted = [each[4] for each in splitted]\n",
    "#         splitted = [number.replace(',', '') for number in splitted]\n",
    "#         splitted = [number.replace('*', '') for number in splitted]\n",
    "#         number_of_employees = [int(num) for num in splitted]\n",
    "#         result = dict(zip(companies, number_of_employees))\n",
    "#         urls = response.css('.info .link a::attr(href)').extract()\n",
    "#         def address_parse(response):\n",
    "#             address = response.css('.gmap_location_widget_address::text').extract_first()\n",
    "#             company = response.css('h1::text').extract_first()\n",
    "#             return {'company': company,\n",
    "#                 'address': address,\n",
    "#                 'number_of_employees': result[company]}\n",
    "#         for url in urls:\n",
    "#             yield scrapy.Request(url, callback=address_parse)\n",
    "\n",
    "\n",
    "#!scrapy crawl nyc_tech_companies\n",
    "\n",
    "null = None\n",
    "companies_dict = [\n",
    "{\"company\": \"OnDeck\", \"address\": \"New York, NY\", \"number_of_employees\": 250},\n",
    "{\"company\": \"Warby Parker\", \"address\": \"161 Avenue of the Americas, New York City, NY 10013\", \"number_of_employees\": 251},\n",
    "{\"company\": \"COMPLEX (dba Complex Media, Inc.)\", \"address\": null, \"number_of_employees\": 250},\n",
    "{\"company\": \"Bloomberg\", \"address\": \"731 Lexington Avenue, New York, NY 10022\", \"number_of_employees\": 9000},\n",
    "{\"company\": \"BounceX\", \"address\": \"620 8th Ave, New York, NY 10018\", \"number_of_employees\": 250},\n",
    "{\"company\": \"Handy\", \"address\": \"New York , NY\", \"number_of_employees\": 255},\n",
    "{\"company\": \"Vimeo\", \"address\": null, \"number_of_employees\": 240},\n",
    "{\"company\": \"1010data\", \"address\": \"750 3rd Ave., 4th Floor, New York, NY 10017\", \"number_of_employees\": 260},\n",
    "{\"company\": \"Justworks\", \"address\": \"601 W 26th St, New York, NY 10001\", \"number_of_employees\": 288},\n",
    "{\"company\": \"Fareportal\", \"address\": \"135 W 50 Street #500, New York, NY 10020\", \"number_of_employees\": 300},\n",
    "{\"company\": \"1stdibs\", \"address\": \"51 Astor Place, New York, NY 10003\", \"number_of_employees\": 269},\n",
    "{\"company\": \"Integral Ad Science\", \"address\": \"95 Morton Street, New York , NY 10014\", \"number_of_employees\": 262},\n",
    "{\"company\": \"MongoDB\", \"address\": \"New York , NY\", \"number_of_employees\": 300},\n",
    "{\"company\": \"Sisense\", \"address\": \" 1359 Broadway 4th Floor , New York, NY 10018\", \"number_of_employees\": 122},\n",
    "{\"company\": \"Compass\", \"address\": \"90 Fifth Avenue, 3rd Floor, New York, NY 10011\", \"number_of_employees\": 300},\n",
    "{\"company\": \"Casper\", \"address\": \"New York, NY\", \"number_of_employees\": 300},\n",
    "{\"company\": \"Mediaocean\", \"address\": \"New York, NY\", \"number_of_employees\": 330},\n",
    "{\"company\": \"Tapad\", \"address\": \"New York , NY\", \"number_of_employees\": 125},\n",
    "{\"company\": \"Yodle\", \"address\": \"330 W 34th Street, New York, NY 10001\", \"number_of_employees\": 124},\n",
    "{\"company\": \"Sailthru\", \"address\": null, \"number_of_employees\": 130},\n",
    "{\"company\": \"Schoology\", \"address\": \"2 Penn Plaza, 10th Floor, New York, NY 10121\", \"number_of_employees\": 131},\n",
    "{\"company\": \"Newsela\", \"address\": \"475 Tenth Avenue, New York, NY 10018\", \"number_of_employees\": 135},\n",
    "{\"company\": \"Spring\", \"address\": \"New York , NY\", \"number_of_employees\": 131},\n",
    "{\"company\": \"Birchbox\", \"address\": \"28 E 28th St, New York, NY 10016\", \"number_of_employees\": 130},\n",
    "{\"company\": \"MediaRadar\", \"address\": \"New York, NY\", \"number_of_employees\": 133},\n",
    "{\"company\": \"Percolate\", \"address\": \"New York , NY\", \"number_of_employees\": 140},\n",
    "{\"company\": \"CB Insights\", \"address\": \"498 7th Avenue, 17th Floor, New York, NY 10018\", \"number_of_employees\": 136},\n",
    "{\"company\": \"Annalect\", \"address\": \"195 Broadway, New York, NY 10007\", \"number_of_employees\": 135},\n",
    "{\"company\": \"Stack Overflow\", \"address\": \"110 William Street , New York, NY 10038\", \"number_of_employees\": 140},\n",
    "{\"company\": \"Purch\", \"address\": null, \"number_of_employees\": 132},\n",
    "{\"company\": \"Transfix\", \"address\": \"498 7th Avenue, New York City, NY 10018\", \"number_of_employees\": 140},\n",
    "{\"company\": \"SeatGeek\", \"address\": \"New York , NY\", \"number_of_employees\": 138},\n",
    "{\"company\": \"Bluecore\", \"address\": \"116 Nassau Street, New York , NY 10038\", \"number_of_employees\": 145},\n",
    "{\"company\": \"Quartet\", \"address\": \"119 W 40th St, New York , NY 10036\", \"number_of_employees\": 145},\n",
    "{\"company\": \"ShopKeep\", \"address\": \"143 Varick Street, New York, NY 10013\", \"number_of_employees\": 140},\n",
    "{\"company\": \"FanDuel\", \"address\": \"1375 Broadway, New York , NY 10018\", \"number_of_employees\": 143},\n",
    "{\"company\": \"Plated\", \"address\": \"22 West 19th Street, 5th Floor, New York , NY 10011\", \"number_of_employees\": 140},\n",
    "{\"company\": \"Managed by Q\", \"address\": \"233 Spring St., New York, NY 10012\", \"number_of_employees\": 160},\n",
    "{\"company\": \"LiveIntent\", \"address\": null, \"number_of_employees\": 149},\n",
    "{\"company\": \"General Assembly\", \"address\": \"New York, NY\", \"number_of_employees\": 146},\n",
    "{\"company\": \"Quartz\", \"address\": null, \"number_of_employees\": 150},\n",
    "{\"company\": \"Artnet\", \"address\": \"233 Broadway 26th Floor, New York, NY 10279\", \"number_of_employees\": 150},\n",
    "{\"company\": \"Artsy\", \"address\": \"401 Broadway, 25th Floor, New York, NY 10013\", \"number_of_employees\": 146},\n",
    "{\"company\": \"Glossier\", \"address\": \" 123 Lafayette St., Penthouse, New York, NY 10013\", \"number_of_employees\": 163},\n",
    "{\"company\": \"Dataminr\", \"address\": \"6 East 32nd St, New York , NY 10016\", \"number_of_employees\": 170},\n",
    "{\"company\": \"VTS\", \"address\": \"114 West 41st Street, New York City, NY 10018\", \"number_of_employees\": 172},\n",
    "{\"company\": \"ConsenSys\", \"address\": \"Brooklyn, NY\", \"number_of_employees\": 164},\n",
    "{\"company\": \"Outbrain\", \"address\": \"39 West 13th Street, New York, NY\", \"number_of_employees\": 160},\n",
    "{\"company\": \"Conductor\", \"address\": \"2 Park Ave 15th Floor , New York , NY\", \"number_of_employees\": 166},\n",
    "{\"company\": \"Foursquare\", \"address\": \"568 Broadway, New York , NY 10012\", \"number_of_employees\": 177},\n",
    "{\"company\": \"Braze\", \"address\": \" 318 W 39th St, 5th Floor, New York, NY 10018\", \"number_of_employees\": 175},\n",
    "{\"company\": \"emarketer\", \"address\": null, \"number_of_employees\": 167},\n",
    "{\"company\": \"Zeta Interactive\", \"address\": \"New York , NY\", \"number_of_employees\": 175},\n",
    "{\"company\": \"Meetup\", \"address\": \"632 Broadway, New York, NY 10012\", \"number_of_employees\": 186},\n",
    "{\"company\": \"Makerbot\", \"address\": \"1 MetroTech Center, Brooklyn, NY 11201\", \"number_of_employees\": 194},\n",
    "{\"company\": \"JW Player\", \"address\": \"2 Park Ave, New York, NY 10016\", \"number_of_employees\": 185},\n",
    "{\"company\": \"Kargo\", \"address\": \"826 Broadway, New York, NY\", \"number_of_employees\": 182},\n",
    "{\"company\": \"Greenhouse Software\", \"address\": \"110 5th Avenue, 3rd Floor, New York , NY 10011\", \"number_of_employees\": 175},\n",
    "{\"company\": \"Harry's\", \"address\": \"75 Varick Street, New York , NY 10013\", \"number_of_employees\": 197},\n",
    "{\"company\": \"Undertone\", \"address\": \"New York, NY\", \"number_of_employees\": 185},\n",
    "{\"company\": \"Mashable\", \"address\": \"East 23rd Street, New York , NY\", \"number_of_employees\": 184},\n",
    "{\"company\": \"Moat\", \"address\": \"New York, NY\", \"number_of_employees\": 187},\n",
    "{\"company\": \"DigitalOcean\", \"address\": \"101 Avenue of the Americas, New York , NY 10013\", \"number_of_employees\": 200},\n",
    "{\"company\": \"Uncommon Goods\", \"address\": null, \"number_of_employees\": 196},\n",
    "{\"company\": \"ClassPass\", \"address\": \"New York , NY\", \"number_of_employees\": 200},\n",
    "{\"company\": \"Taboola\", \"address\": \"19 W. 22nd Street 5th Floor, New York , NY\", \"number_of_employees\": 198},\n",
    "{\"company\": \"Rent the Runway\", \"address\": \"345 Hudson Street , New York , NY 10014\", \"number_of_employees\": 230},\n",
    "{\"company\": \"TMP Worldwide\", \"address\": \"125 Broad St. 10th Floor, New York, NY 10004\", \"number_of_employees\": 201},\n",
    "{\"company\": \"2U\", \"address\": \"New York, NY\", \"number_of_employees\": 200},\n",
    "{\"company\": \"LearnVest\", \"address\": \"41 East 11th Street, 2nd Floor, New York, NY 10003\", \"number_of_employees\": 236},\n",
    "{\"company\": \"Betterment\", \"address\": \"New York, NY\", \"number_of_employees\": 216},\n",
    "{\"company\": \"Bonobos\", \"address\": \"45 W 25th Street, 5th Floor, New York, NY 10010\", \"number_of_employees\": 225},\n",
    "{\"company\": \"Sprinklr\", \"address\": \"New York , NY\", \"number_of_employees\": 218},\n",
    "{\"company\": \"Datadog\", \"address\": \"New York, NY\", \"number_of_employees\": 225},\n",
    "{\"company\": \"Presidio\", \"address\": null, \"number_of_employees\": 332},\n",
    "{\"company\": \"Namely\", \"address\": \"195 Broadway, New York, NY 10007\", \"number_of_employees\": 380},\n",
    "{\"company\": \"MediaMath\", \"address\": \"New York, NY\", \"number_of_employees\": 346},\n",
    "{\"company\": \"Zocdoc\", \"address\": \"568 Broadway, New York , NY 10012\", \"number_of_employees\": 340},\n",
    "{\"company\": \"XO Group Inc\", \"address\": \"195 Broadway, New York, NY 10007\", \"number_of_employees\": 350},\n",
    "{\"company\": \"Group Nine Media\", \"address\": \"568 Broadway Ave, New York, NY 10012\", \"number_of_employees\": 420},\n",
    "{\"company\": \"Intersection\", \"address\": \"10 Hudson Yards, New York City, NY 10001\", \"number_of_employees\": 380},\n",
    "{\"company\": \"Gilt Groupe\", \"address\": \"250 Vesey Street, 21st Floor, New York, NY 10281\", \"number_of_employees\": 400},\n",
    "{\"company\": \"Squarespace\", \"address\": \"8 Clarkson Street, New York, NY 10014\", \"number_of_employees\": 426},\n",
    "{\"company\": \"The Business Insider\", \"address\": \"150 Fifth Avenue 8th floor, New York , NY\", \"number_of_employees\": 350},\n",
    "{\"company\": \"Flatiron Health\", \"address\": \"One Soho Square at 233 Spring Stree, New York, NY 10013\", \"number_of_employees\": 460},\n",
    "{\"company\": \"Oscar\", \"address\": \"295 Lafayette St, New York, NY 10012\", \"number_of_employees\": 400},\n",
    "{\"company\": \"Infor\", \"address\": null, \"number_of_employees\": 420},\n",
    "{\"company\": \"Shutterstock\", \"address\": \"350 5th Avenue, New York, NY 10118\", \"number_of_employees\": 450},\n",
    "{\"company\": \"Information Builders\", \"address\": null, \"number_of_employees\": 485},\n",
    "{\"company\": \"Peloton\", \"address\": \"125 w 25th St, New York , NY\", \"number_of_employees\": 515},\n",
    "{\"company\": \"Yext\", \"address\": \"1 Madison Avenue, New York, NY 10010\", \"number_of_employees\": 675},\n",
    "{\"company\": \"Refinery29\", \"address\": \"225 Broadway Floor 23 , New York , NY\", \"number_of_employees\": 558},\n",
    "{\"company\": \"FreshDirect\", \"address\": null, \"number_of_employees\": 657},\n",
    "{\"company\": \"AppNexus\", \"address\": \"New York , NY\", \"number_of_employees\": 583},\n",
    "{\"company\": \"Etsy\", \"address\": \"117 Adams Street, Brooklyn, NY 11201\", \"number_of_employees\": 622},\n",
    "{\"company\": \"Blue Apron\", \"address\": \"New York, NY\", \"number_of_employees\": 890},\n",
    "{\"company\": \"Vice Media\", \"address\": \"49 S 2nd St, Brooklyn, NY 11249\", \"number_of_employees\": 1217},\n",
    "{\"company\": \"E*Trade\", \"address\": null, \"number_of_employees\": 827},\n",
    "{\"company\": \"BuzzFeed\", \"address\": \"111 E 18th St, New York, NY 10003\", \"number_of_employees\": 730},\n",
    "{\"company\": \"CA Technologies\", \"address\": null, \"number_of_employees\": 1230},\n",
    "{\"company\": \"Oath\", \"address\": \"770 Broadway, New York, NY 10003-9562\", \"number_of_employees\": 1400}\n",
    "]\n",
    "\n"
   ]
  },
  {
   "cell_type": "code",
   "execution_count": null,
   "metadata": {},
   "outputs": [],
   "source": [
    "company_data = pd.DataFrame(companies_dict)\n",
    "company_data.head()"
   ]
  },
  {
   "cell_type": "code",
   "execution_count": null,
   "metadata": {},
   "outputs": [],
   "source": [
    "company_data.address.value_counts(dropna=False)"
   ]
  },
  {
   "cell_type": "code",
   "execution_count": null,
   "metadata": {},
   "outputs": [],
   "source": [
    "company_data.loc[company_data.company=='CA Technologies', 'address'] = '520 Madison Ave, New York, NY 10022'\n",
    "company_data.loc[company_data.company=='Blue Apron', 'address'] = '40 W 23rd St 5th floor, New York, NY'\n",
    "company_data.loc[company_data.company=='E*Trade', 'address'] = '11 Times Sq, New York, NY 10036'\n",
    "company_data.loc[company_data.company=='AppNexus', 'address'] = '28 W 23rd St, New York, NY 10010'\n",
    "company_data.loc[company_data.company=='Information Builders', 'address'] = '2 Pennsylvania Plaza, New York, NY 10121'\n",
    "company_data.loc[company_data.company=='Infor', 'address'] = '641 6th Ave, New York, NY 10011'\n",
    "company_data.loc[company_data.company=='FreshDirect', 'address'] = '2330 Borden Ave Long Island City, NY 11101'\n",
    "company_data.loc[company_data.company=='Refinery29', 'address'] = '225 Broadway, New York , NY'\n",
    "company_data.loc[company_data.company=='Flatiron Health', 'address'] = '233 Spring Street, New York, NY'\n",
    "company_data.loc[company_data.company=='Blue Apron', 'address'] = '40 W 23rd St, New York, NY'"
   ]
  },
  {
   "cell_type": "code",
   "execution_count": null,
   "metadata": {},
   "outputs": [],
   "source": [
    "companies_20 = company_data.sort_values('number_of_employees', ascending=False).head(20)"
   ]
  },
  {
   "cell_type": "code",
   "execution_count": null,
   "metadata": {},
   "outputs": [],
   "source": [
    "from geopy.geocoders import Nominatim\n",
    "geolocator = Nominatim(user_agent=\"NYC_Tech_companies\")"
   ]
  },
  {
   "cell_type": "code",
   "execution_count": null,
   "metadata": {},
   "outputs": [],
   "source": [
    "from geopy.extra.rate_limiter import RateLimiter\n",
    "geocode = RateLimiter(geolocator.geocode, min_delay_seconds=2)"
   ]
  },
  {
   "cell_type": "code",
   "execution_count": null,
   "metadata": {},
   "outputs": [],
   "source": [
    "companies_20['location'] = companies_20['address'].apply(geocode)\n",
    "companies_20['point'] = companies_20['location'].apply(lambda loc: tuple(loc.point) if loc else None)"
   ]
  },
  {
   "cell_type": "code",
   "execution_count": null,
   "metadata": {},
   "outputs": [],
   "source": [
    "companies_20.head()"
   ]
  },
  {
   "cell_type": "code",
   "execution_count": null,
   "metadata": {},
   "outputs": [],
   "source": [
    "#companies_20.to_csv('companies_20.csv')"
   ]
  },
  {
   "cell_type": "code",
   "execution_count": null,
   "metadata": {},
   "outputs": [],
   "source": [
    "from scipy.spatial.distance import cdist\n",
    "\n",
    "def closest_point(point, points):\n",
    "    \"\"\" Find closest point from a list of points. \"\"\"\n",
    "    return points[cdist([point], points).argmin()]"
   ]
  },
  {
   "cell_type": "code",
   "execution_count": null,
   "metadata": {},
   "outputs": [],
   "source": [
    "nyc_turnstile_geocode_df['point'] = [\n",
    "    (x,y) for x, y in zip(nyc_turnstile_geocode_df['LAT'], nyc_turnstile_geocode_df['LONG'])]"
   ]
  },
  {
   "cell_type": "code",
   "execution_count": null,
   "metadata": {},
   "outputs": [],
   "source": [
    "nyc_turnstile_geocode_df.tail()"
   ]
  },
  {
   "cell_type": "code",
   "execution_count": null,
   "metadata": {},
   "outputs": [],
   "source": [
    "# remove the last coordinate in the geocoded points\n",
    "companies_20['point'] = [(x,y) for x,y,z in companies_20['point']]"
   ]
  },
  {
   "cell_type": "code",
   "execution_count": null,
   "metadata": {},
   "outputs": [],
   "source": [
    "companies_20['closest'] = [closest_point(x, list(nyc_turnstile_geocode_df['point'][:-18])) \\\n",
    "                           for x in companies_20['point']]"
   ]
  },
  {
   "cell_type": "code",
   "execution_count": null,
   "metadata": {},
   "outputs": [],
   "source": [
    "merged_companies = companies_20.merge(nyc_turnstile_geocode_df, how='left', left_on='closest', right_on='point')"
   ]
  },
  {
   "cell_type": "code",
   "execution_count": null,
   "metadata": {},
   "outputs": [],
   "source": [
    "merged_companies.columns"
   ]
  },
  {
   "cell_type": "code",
   "execution_count": null,
   "metadata": {},
   "outputs": [],
   "source": [
    "final_df = merged_companies[['address', 'company', 'number_of_employees', 'location', 'point_x','closest', 'STATION']]"
   ]
  },
  {
   "cell_type": "code",
   "execution_count": null,
   "metadata": {},
   "outputs": [],
   "source": [
    "final_df.drop_duplicates(subset=['address', 'company', 'number_of_employees', \\\n",
    "                                 'point_x','closest', 'STATION'], \\\n",
    "                         inplace = True)"
   ]
  },
  {
   "cell_type": "code",
   "execution_count": null,
   "metadata": {},
   "outputs": [],
   "source": [
    "final_df.drop(final_df.index[1], inplace=True)"
   ]
  },
  {
   "cell_type": "code",
   "execution_count": null,
   "metadata": {},
   "outputs": [],
   "source": [
    "final_df.head()"
   ]
  },
  {
   "cell_type": "code",
   "execution_count": null,
   "metadata": {},
   "outputs": [],
   "source": [
    "top_20_cmpy_df = final_df.reset_index(drop=True)"
   ]
  },
  {
   "cell_type": "code",
   "execution_count": null,
   "metadata": {},
   "outputs": [],
   "source": [
    "top_20_cmpy_df.rename(columns={'point_x': 'company_coordinates', 'STATION':'station'}, inplace=True)"
   ]
  },
  {
   "cell_type": "code",
   "execution_count": null,
   "metadata": {},
   "outputs": [],
   "source": [
    "top_20_cmpy_df.head()"
   ]
  },
  {
   "cell_type": "code",
   "execution_count": null,
   "metadata": {},
   "outputs": [],
   "source": [
    "#top_20_cmpy_df.to_pickle('top_20_cmpy_df.pkl')"
   ]
  },
  {
   "cell_type": "code",
   "execution_count": null,
   "metadata": {},
   "outputs": [],
   "source": [
    "plt.bar(list(top_20_cmpy_df['company']), list(top_20_cmpy_df['number_of_employees']), label='company')\n",
    "plt.xticks(rotation=90)\n",
    "#plt.savefig('temp.png',bbox_inches='tight', pad_inches=1)"
   ]
  },
  {
   "cell_type": "code",
   "execution_count": null,
   "metadata": {},
   "outputs": [],
   "source": [
    "turnstiles_daily_stations = turnstiles_daily.sort_values('DAILY_ENTRIES', ascending=False).groupby('STATION')\\\n",
    "    .agg({'DAILY_ENTRIES': sum})\\\n",
    "    .sort_values('DAILY_ENTRIES', ascending=False)\\\n",
    "    .rename(columns={'DAILY_ENTRIES': 'MONTHLY_ENTRIES'})"
   ]
  },
  {
   "cell_type": "code",
   "execution_count": null,
   "metadata": {},
   "outputs": [],
   "source": [
    "plt.bar(list(turnstiles_daily_stations.index)[:20],\n",
    "        list(turnstiles_daily_stations.head(20)['MONTHLY_ENTRIES']), label='company')\n",
    "plt.xticks(rotation=90)\n",
    "#plt.savefig('temp_stations.png',bbox_inches='tight', pad_inches=1)"
   ]
  },
  {
   "cell_type": "code",
   "execution_count": null,
   "metadata": {},
   "outputs": [],
   "source": [
    "import folium\n",
    "df = top_20_cmpy_df\n",
    "m = folium.Map(location=[40.730610, -73.935242])\n",
    "\n",
    "for i, row in df.iterrows():\n",
    "   folium.Marker(location = row['company_coordinates'],\n",
    "           popup = str('<strong>Company:  </strong> ' + row['company'] + '<br>' + '<strong>Nearest Station:  </strong> ' + row['station'] \\\n",
    "                       + '<br>' + '<strong>Number of Employees:  </strong>' + str(row['number_of_employees'])),\n",
    "\n",
    "                         icon= folium.Icon(icon = 'info-sign')).add_to(m)\n",
    "   folium.Marker(location = row['closest'],\n",
    "                popup = str('<strong>Station:  </strong> ' + row['station']),\n",
    "                icon = folium.Icon(color='red', icon='info-sign')).add_to(m)\n",
    "    \n",
    "m"
   ]
  },
  {
   "cell_type": "code",
   "execution_count": null,
   "metadata": {},
   "outputs": [],
   "source": []
  }
 ],
 "metadata": {
  "kernelspec": {
   "display_name": "Python 3",
   "language": "python",
   "name": "python3"
  },
  "language_info": {
   "codemirror_mode": {
    "name": "ipython",
    "version": 3
   },
   "file_extension": ".py",
   "mimetype": "text/x-python",
   "name": "python",
   "nbconvert_exporter": "python",
   "pygments_lexer": "ipython3",
   "version": "3.6.6"
  }
 },
 "nbformat": 4,
 "nbformat_minor": 1
}
